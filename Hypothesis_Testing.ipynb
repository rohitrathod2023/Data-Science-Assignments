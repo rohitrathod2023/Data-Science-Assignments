{
  "nbformat": 4,
  "nbformat_minor": 0,
  "metadata": {
    "colab": {
      "provenance": []
    },
    "kernelspec": {
      "name": "python3",
      "display_name": "Python 3"
    },
    "language_info": {
      "name": "python"
    }
  },
  "cells": [
    {
      "cell_type": "code",
      "execution_count": 2,
      "metadata": {
        "id": "HcO0u1wqiM0a"
      },
      "outputs": [],
      "source": [
        "import pandas as pd\n",
        "from scipy import stats\n",
        "import numpy as np"
      ]
    },
    {
      "cell_type": "markdown",
      "source": [
        "# 1. State the Hypotheses statement:"
      ],
      "metadata": {
        "id": "63wrU058ixaG"
      }
    },
    {
      "cell_type": "markdown",
      "source": [
        "W = 1000 + 5X;\n",
        "\n",
        "Null Hypothesis(Ho):  u = W (no increase in weekly costs)\n",
        "\n",
        "Alternative Hypothesis (H1): u > W (weekly costs have increased)\n",
        "\n",
        "Because of the mean value is grater than meau value this is one-tailed test"
      ],
      "metadata": {
        "id": "aqXxII_Oj8uZ"
      }
    },
    {
      "cell_type": "markdown",
      "source": [
        "# 2. Calculate the Test Statistic:"
      ],
      "metadata": {
        "id": "OlizH4Knkk_v"
      }
    },
    {
      "cell_type": "code",
      "source": [
        "# Given Data\n",
        "sample_mean = 3050\n",
        "theoretical_mean = 4000 # Rs. (W = 1000 + 5X where X = 600)\n",
        "std_dev = 125  #  (5 * 25)\n",
        "sample_size = 25\n",
        "alpha = 0.05 #(Critical Value)"
      ],
      "metadata": {
        "id": "XhjgNlGWnvHa"
      },
      "execution_count": 3,
      "outputs": []
    },
    {
      "cell_type": "code",
      "source": [
        "# Calculating the test statistic (t)\n",
        "t_statistic = (3050 - 4000) / (125 / np.sqrt(sample_size))\n",
        "t_statistic"
      ],
      "metadata": {
        "colab": {
          "base_uri": "https://localhost:8080/"
        },
        "id": "wT22m2jskkf3",
        "outputId": "4f97aa0b-9034-410e-82f3-ce61f1891004"
      },
      "execution_count": 4,
      "outputs": [
        {
          "output_type": "execute_result",
          "data": {
            "text/plain": [
              "-38.0"
            ]
          },
          "metadata": {},
          "execution_count": 4
        }
      ]
    },
    {
      "cell_type": "code",
      "source": [],
      "metadata": {
        "id": "FzhMqkXt331i"
      },
      "execution_count": 11,
      "outputs": []
    },
    {
      "cell_type": "markdown",
      "source": [
        "# 3. Determine the Critical Value"
      ],
      "metadata": {
        "id": "LZc2kjk4Fib8"
      }
    },
    {
      "cell_type": "markdown",
      "source": [],
      "metadata": {
        "id": "KWe1ypc7pRbZ"
      }
    },
    {
      "cell_type": "code",
      "source": [
        "# Determine the critical value from T-distribution for a one-tailed test\n",
        "critical_value = stats.t.ppf(1 - alpha, df=sample_size - 1)\n",
        "critical_value"
      ],
      "metadata": {
        "colab": {
          "base_uri": "https://localhost:8080/"
        },
        "id": "7kHLoP6QpZsq",
        "outputId": "03d756b8-e71d-43db-ca78-52619f471d61"
      },
      "execution_count": 6,
      "outputs": [
        {
          "output_type": "execute_result",
          "data": {
            "text/plain": [
              "1.7108820799094275"
            ]
          },
          "metadata": {},
          "execution_count": 6
        }
      ]
    },
    {
      "cell_type": "markdown",
      "source": [
        "# 4. Make a Decision\n"
      ],
      "metadata": {
        "id": "qWKS17wyFqFS"
      }
    },
    {
      "cell_type": "code",
      "source": [
        "# Compare the test statistic with the critical value and make a decision\n",
        "if t_statistic > critical_value:   # for left-tailed test\n",
        "  print(\"Reject the null hypothesis (Ho).\")\n",
        "else:\n",
        "  print(\"Fail to reject the null hypothesis (Ho).\")"
      ],
      "metadata": {
        "colab": {
          "base_uri": "https://localhost:8080/"
        },
        "id": "2-PyzeB9qAU_",
        "outputId": "e302eae3-3b02-437d-84ec-13182c13c574"
      },
      "execution_count": 11,
      "outputs": [
        {
          "output_type": "stream",
          "name": "stdout",
          "text": [
            "Fail to reject the null hypothesis (Ho).\n"
          ]
        }
      ]
    },
    {
      "cell_type": "markdown",
      "source": [
        "**Beacuse of we Fail to reject the null hypothesis(Ho) thats why we can concluded that there is insufficient evidence to conclude that weekly operating costs are higher than the model suggests.**\n",
        "\n",
        "\n"
      ],
      "metadata": {
        "id": "wQ3NK0Urzr3r"
      }
    },
    {
      "cell_type": "markdown",
      "source": [
        "# 5. Conclusion:"
      ],
      "metadata": {
        "id": "UMBpNLYN0s5L"
      }
    },
    {
      "cell_type": "markdown",
      "source": [
        "Test Statistic (t): The test statistic is calculated as -38.0.\n",
        "\n",
        "Critical Value: The critical value is 1.71.\n",
        "\n",
        "Decision: Since the test statistic -38.0 is less than the critical value 1.71, we fail to reject the null hypothesis.\n",
        "\n",
        "There we can conclude that there is insufficient evidence to support the restaurant owners' claim that the weekly operating costs are higher than what the theoretical model suggests."
      ],
      "metadata": {
        "id": "BD9ZvXdB09Zs"
      }
    },
    {
      "cell_type": "code",
      "source": [],
      "metadata": {
        "id": "BgdenPhF1BhB"
      },
      "execution_count": null,
      "outputs": []
    }
  ]
}