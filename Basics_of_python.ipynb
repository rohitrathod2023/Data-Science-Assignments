{
  "nbformat": 4,
  "nbformat_minor": 0,
  "metadata": {
    "colab": {
      "provenance": []
    },
    "kernelspec": {
      "name": "python3",
      "display_name": "Python 3"
    },
    "language_info": {
      "name": "python"
    }
  },
  "cells": [
    {
      "cell_type": "markdown",
      "source": [
        "# Python Programming Assignment\n",
        "**Rohit Rathod **"
      ],
      "metadata": {
        "id": "P9QK4xKLYEXn"
      }
    },
    {
      "cell_type": "markdown",
      "source": [
        "# Exercise 1: Prime Numbers"
      ],
      "metadata": {
        "id": "QQ7J_DWpX96U"
      }
    },
    {
      "cell_type": "code",
      "execution_count": 12,
      "metadata": {
        "colab": {
          "base_uri": "https://localhost:8080/"
        },
        "id": "1q0mAFIOX8YJ",
        "outputId": "395216b0-0613-4f13-bb3d-193cd73f7a9d"
      },
      "outputs": [
        {
          "output_type": "stream",
          "name": "stdout",
          "text": [
            "Enter a number: 13\n",
            "13 is a prime number\n"
          ]
        }
      ],
      "source": [
        "# Program to check if a number is prime or not\n",
        "# To take input from the user\n",
        "num = int(input(\"Enter a number: \"))\n",
        "\n",
        "# Initialize a flag variable to track if the number is prime\n",
        "flag = False\n",
        "\n",
        "# If the number is 0 or 1, it is not considered a prime number.\n",
        "# Therefor, check if the number is 0 or 1, which are not prime numbers\n",
        "if num == 0 or num == 1:\n",
        "    print(num, \"is not a prime number\")\n",
        "elif num > 1:\n",
        "    # Check for factors from 2 to num-1,to see if any number divides `num` evenly\n",
        "    for i in range(2, num):\n",
        "        if (num % i) == 0:\n",
        "            # If a factor is found, set the flag to True and break the loop\n",
        "            flag = True\n",
        "            break\n",
        "\n",
        "    # If flag is True, num is not prime; otherwise, it is prime\n",
        "    if flag:\n",
        "        print(num, \"is not a prime number\")\n",
        "    else:\n",
        "        print(num, \"is a prime number\")\n"
      ]
    },
    {
      "cell_type": "markdown",
      "source": [
        "# Exercise 2: Product of Random Numbers"
      ],
      "metadata": {
        "id": "Sr-8RY6Rb0Il"
      }
    },
    {
      "cell_type": "code",
      "source": [
        "import random\n",
        "\n",
        "def check_product():\n",
        "    # Generate two random numbers, ask user for their product, and check if the user's answer is correct.\n",
        "    num1 = random.randint(1, 10)\n",
        "    num2 = random.randint(1, 10)\n",
        "    print(f\"Calculate the product of {num1} and {num2}.\")\n",
        "    user_input = int(input(\"Enter your answer: \"))\n",
        "\n",
        "    if user_input == num1 * num2:\n",
        "        print(\"Correct!\")\n",
        "    else:\n",
        "        print(f\"Incorrect. The correct answer is {num1 * num2}.\")\n",
        "\n",
        "# Run the function to check the answer\n",
        "check_product()"
      ],
      "metadata": {
        "id": "jjZDt5Hxfxa1",
        "colab": {
          "base_uri": "https://localhost:8080/"
        },
        "outputId": "0bbe2999-3623-4991-9f5a-0d2a88d2052f"
      },
      "execution_count": 13,
      "outputs": [
        {
          "output_type": "stream",
          "name": "stdout",
          "text": [
            "Calculate the product of 3 and 7.\n",
            "Enter your answer: 20\n",
            "Incorrect. The correct answer is 21.\n"
          ]
        }
      ]
    },
    {
      "cell_type": "markdown",
      "source": [
        "# Exercise 3: Squares of Even/Odd Numbers"
      ],
      "metadata": {
        "id": "Sxxxvd8GoRx6"
      }
    },
    {
      "cell_type": "code",
      "source": [
        "#Print the squares of all even numbers within the range of 100 to 200.\n",
        "for num in range(100, 201):\n",
        "  if num % 2 == 0:\n",
        "     print(f\"The square of even number {num} is {num**2}\")\n"
      ],
      "metadata": {
        "colab": {
          "base_uri": "https://localhost:8080/"
        },
        "id": "BFUusN-NoRjo",
        "outputId": "73ba1914-37fe-4bc6-9901-4ea22696ed39"
      },
      "execution_count": 14,
      "outputs": [
        {
          "output_type": "stream",
          "name": "stdout",
          "text": [
            "The square of even number 100 is 10000\n",
            "The square of even number 102 is 10404\n",
            "The square of even number 104 is 10816\n",
            "The square of even number 106 is 11236\n",
            "The square of even number 108 is 11664\n",
            "The square of even number 110 is 12100\n",
            "The square of even number 112 is 12544\n",
            "The square of even number 114 is 12996\n",
            "The square of even number 116 is 13456\n",
            "The square of even number 118 is 13924\n",
            "The square of even number 120 is 14400\n",
            "The square of even number 122 is 14884\n",
            "The square of even number 124 is 15376\n",
            "The square of even number 126 is 15876\n",
            "The square of even number 128 is 16384\n",
            "The square of even number 130 is 16900\n",
            "The square of even number 132 is 17424\n",
            "The square of even number 134 is 17956\n",
            "The square of even number 136 is 18496\n",
            "The square of even number 138 is 19044\n",
            "The square of even number 140 is 19600\n",
            "The square of even number 142 is 20164\n",
            "The square of even number 144 is 20736\n",
            "The square of even number 146 is 21316\n",
            "The square of even number 148 is 21904\n",
            "The square of even number 150 is 22500\n",
            "The square of even number 152 is 23104\n",
            "The square of even number 154 is 23716\n",
            "The square of even number 156 is 24336\n",
            "The square of even number 158 is 24964\n",
            "The square of even number 160 is 25600\n",
            "The square of even number 162 is 26244\n",
            "The square of even number 164 is 26896\n",
            "The square of even number 166 is 27556\n",
            "The square of even number 168 is 28224\n",
            "The square of even number 170 is 28900\n",
            "The square of even number 172 is 29584\n",
            "The square of even number 174 is 30276\n",
            "The square of even number 176 is 30976\n",
            "The square of even number 178 is 31684\n",
            "The square of even number 180 is 32400\n",
            "The square of even number 182 is 33124\n",
            "The square of even number 184 is 33856\n",
            "The square of even number 186 is 34596\n",
            "The square of even number 188 is 35344\n",
            "The square of even number 190 is 36100\n",
            "The square of even number 192 is 36864\n",
            "The square of even number 194 is 37636\n",
            "The square of even number 196 is 38416\n",
            "The square of even number 198 is 39204\n",
            "The square of even number 200 is 40000\n"
          ]
        }
      ]
    },
    {
      "cell_type": "markdown",
      "source": [
        "# Exercise 4: Word counter"
      ],
      "metadata": {
        "id": "LGjxjhHMpnDB"
      }
    },
    {
      "cell_type": "code",
      "source": [
        "#Counts the number of occurrences of each word in the given text.\n",
        "def word_counter(text):\n",
        "    words = text.split()  # Split the input text into individual words\n",
        "      # Initialize an empty dictionary to store word counts.by using dictionary we can store the word and there count\n",
        "    word_count = {}\n",
        "    for word in words:\n",
        "        # Update the word count for each word in the dictionary\n",
        "        word_count[word] = word_count.get(word, 0) + 1\n",
        "\n",
        "    return word_count\n",
        "\n",
        "# I have used the inpute which is given in the assignment.\n",
        "input_text = \"This is a sample text. This text will be used to demonstrate the word counter.\"\n",
        "\n",
        "# we can get the word count using  the word_counter function and store them in it word_count variable to further process\n",
        "word_count = word_counter(input_text)\n",
        "\n",
        "# Print each word and its corresponding count\n",
        "for word, count in word_count.items():\n",
        "    print(f\"'{word}': {count}\")\n",
        "\n"
      ],
      "metadata": {
        "colab": {
          "base_uri": "https://localhost:8080/"
        },
        "id": "k9YiGRaGoRgP",
        "outputId": "dcee1e14-45d5-40f8-e413-1cc12ce9886f"
      },
      "execution_count": 15,
      "outputs": [
        {
          "output_type": "stream",
          "name": "stdout",
          "text": [
            "'This': 2\n",
            "'is': 1\n",
            "'a': 1\n",
            "'sample': 1\n",
            "'text.': 1\n",
            "'text': 1\n",
            "'will': 1\n",
            "'be': 1\n",
            "'used': 1\n",
            "'to': 1\n",
            "'demonstrate': 1\n",
            "'the': 1\n",
            "'word': 1\n",
            "'counter.': 1\n"
          ]
        }
      ]
    },
    {
      "cell_type": "markdown",
      "source": [
        "# Exercise 5: Check for Palindrome"
      ],
      "metadata": {
        "id": "NUP19ve8oQze"
      }
    },
    {
      "cell_type": "code",
      "source": [
        "#Check if the given string is a palindrome using the two-pointer method.\n",
        "\n",
        "def is_palindrome(text):\n",
        "    # I have used two pointers one at the start and one at the end of the string to check the palindrom\n",
        "    # In palindrom we check is string reman same if it will be reversed.\n",
        "\n",
        "    left = 0\n",
        "    right = len(text) - 1\n",
        "\n",
        "    # Compare characters from both ends moving towards the center if left become the greather than right then it will be terminate the loop\n",
        "    while left < right:\n",
        "        if text[left] != text[right]:\n",
        "            return False  # Return False if characters don't match\n",
        "        left += 1  # Move the left pointer to the right\n",
        "        right -= 1  # Move the right pointer to the left\n",
        "\n",
        "    return True  # Return True if all characters match\n",
        "\n",
        "# check the answer\n",
        "input_string = \"racecar\"\n",
        "\n",
        "if is_palindrome(input_string):\n",
        "    print(f\"'{input_string}' is a palindrome.\")\n",
        "else:\n",
        "    print(f\"'{input_string}' is not a palindrome.\")\n"
      ],
      "metadata": {
        "colab": {
          "base_uri": "https://localhost:8080/"
        },
        "id": "ymLKEPeErwn3",
        "outputId": "989759e2-141b-4126-9f88-569deac151e9"
      },
      "execution_count": 16,
      "outputs": [
        {
          "output_type": "stream",
          "name": "stdout",
          "text": [
            "'racecar' is a palindrome.\n"
          ]
        }
      ]
    },
    {
      "cell_type": "code",
      "source": [],
      "metadata": {
        "id": "PiAlVyKrvrZr"
      },
      "execution_count": null,
      "outputs": []
    }
  ]
}