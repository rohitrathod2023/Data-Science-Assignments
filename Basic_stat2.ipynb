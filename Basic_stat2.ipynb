{
  "nbformat": 4,
  "nbformat_minor": 0,
  "metadata": {
    "colab": {
      "provenance": []
    },
    "kernelspec": {
      "name": "python3",
      "display_name": "Python 3"
    },
    "language_info": {
      "name": "python"
    }
  },
  "cells": [
    {
      "cell_type": "code",
      "execution_count": null,
      "metadata": {
        "id": "7OMtBsy3Sm56"
      },
      "outputs": [],
      "source": [
        "import pandas as pd\n",
        "from scipy import stats\n",
        "import numpy as np"
      ]
    },
    {
      "cell_type": "code",
      "source": [
        "data = [1.13, 1.55, 1.43, 0.92, 1.25, 1.36, 1.32, 0.85, 1.07, 1.48, 1.20, 1.33, 1.18, 1.22, 1.29]\n",
        "df = pd.DataFrame(data)"
      ],
      "metadata": {
        "id": "Na6dE3NSSy9-"
      },
      "execution_count": null,
      "outputs": []
    },
    {
      "cell_type": "code",
      "source": [
        "df_mean= df.mean()\n",
        "df_mean"
      ],
      "metadata": {
        "colab": {
          "base_uri": "https://localhost:8080/",
          "height": 115
        },
        "id": "t9lPcu-OTDYR",
        "outputId": "3ca18970-5581-41af-ee62-6ec2e7d0a73d"
      },
      "execution_count": null,
      "outputs": [
        {
          "output_type": "execute_result",
          "data": {
            "text/plain": [
              "0    1.238667\n",
              "dtype: float64"
            ],
            "text/html": [
              "<div>\n",
              "<style scoped>\n",
              "    .dataframe tbody tr th:only-of-type {\n",
              "        vertical-align: middle;\n",
              "    }\n",
              "\n",
              "    .dataframe tbody tr th {\n",
              "        vertical-align: top;\n",
              "    }\n",
              "\n",
              "    .dataframe thead th {\n",
              "        text-align: right;\n",
              "    }\n",
              "</style>\n",
              "<table border=\"1\" class=\"dataframe\">\n",
              "  <thead>\n",
              "    <tr style=\"text-align: right;\">\n",
              "      <th></th>\n",
              "      <th>0</th>\n",
              "    </tr>\n",
              "  </thead>\n",
              "  <tbody>\n",
              "    <tr>\n",
              "      <th>0</th>\n",
              "      <td>1.238667</td>\n",
              "    </tr>\n",
              "  </tbody>\n",
              "</table>\n",
              "</div><br><label><b>dtype:</b> float64</label>"
            ]
          },
          "metadata": {},
          "execution_count": 5
        }
      ]
    },
    {
      "cell_type": "code",
      "source": [
        "df_std = df.std()\n",
        "df_std"
      ],
      "metadata": {
        "colab": {
          "base_uri": "https://localhost:8080/",
          "height": 115
        },
        "id": "8rtv_YLkTF4q",
        "outputId": "600c1656-34bf-4b10-a1f7-88b34ada7037"
      },
      "execution_count": null,
      "outputs": [
        {
          "output_type": "execute_result",
          "data": {
            "text/plain": [
              "0    0.193164\n",
              "dtype: float64"
            ],
            "text/html": [
              "<div>\n",
              "<style scoped>\n",
              "    .dataframe tbody tr th:only-of-type {\n",
              "        vertical-align: middle;\n",
              "    }\n",
              "\n",
              "    .dataframe tbody tr th {\n",
              "        vertical-align: top;\n",
              "    }\n",
              "\n",
              "    .dataframe thead th {\n",
              "        text-align: right;\n",
              "    }\n",
              "</style>\n",
              "<table border=\"1\" class=\"dataframe\">\n",
              "  <thead>\n",
              "    <tr style=\"text-align: right;\">\n",
              "      <th></th>\n",
              "      <th>0</th>\n",
              "    </tr>\n",
              "  </thead>\n",
              "  <tbody>\n",
              "    <tr>\n",
              "      <th>0</th>\n",
              "      <td>0.193164</td>\n",
              "    </tr>\n",
              "  </tbody>\n",
              "</table>\n",
              "</div><br><label><b>dtype:</b> float64</label>"
            ]
          },
          "metadata": {},
          "execution_count": 6
        }
      ]
    },
    {
      "cell_type": "code",
      "source": [
        "n = len(data)\n",
        "confidence_level = 0.99\n",
        "degrees_of_freedom = n - 1"
      ],
      "metadata": {
        "id": "-Nao4aF9kH3I"
      },
      "execution_count": null,
      "outputs": []
    },
    {
      "cell_type": "markdown",
      "source": [],
      "metadata": {
        "id": "8rPEt1l8keUR"
      }
    },
    {
      "cell_type": "code",
      "source": [],
      "metadata": {
        "id": "qw6sV1WBkd3T"
      },
      "execution_count": null,
      "outputs": []
    },
    {
      "cell_type": "markdown",
      "source": [
        "# Task A: Build **99**% Confidence Interval Using Sample Standard *Deviation*"
      ],
      "metadata": {
        "id": "1FBKGJKskf5B"
      }
    },
    {
      "cell_type": "code",
      "source": [
        "#first we have to calculate the t-distrubation value using .pff function\n",
        "t_value = stats.t.ppf((1 + 0.99) / 2, 14)\n",
        "t_value"
      ],
      "metadata": {
        "colab": {
          "base_uri": "https://localhost:8080/"
        },
        "id": "x8_XDABDTZ2s",
        "outputId": "121e61b0-f8d4-4c54-9eb2-a1232b7389a5"
      },
      "execution_count": null,
      "outputs": [
        {
          "output_type": "execute_result",
          "data": {
            "text/plain": [
              "2.976842734370834"
            ]
          },
          "metadata": {},
          "execution_count": 8
        }
      ]
    },
    {
      "cell_type": "code",
      "source": [
        "#after calulating t-value we have to calculate the margin of error value for the correct confidence interval\n",
        "margin_of_error = t_value * (df_std / np.sqrt(15))\n",
        "confidence_interval = (df_mean - margin_of_error, df_mean + margin_of_error)\n",
        "print(\"99% Confidence Interval :\", confidence_interval)\n"
      ],
      "metadata": {
        "colab": {
          "base_uri": "https://localhost:8080/"
        },
        "id": "EQh6idgTg_YD",
        "outputId": "edcf991f-2d8e-42df-8ee5-b557db5f2977"
      },
      "execution_count": null,
      "outputs": [
        {
          "output_type": "stream",
          "name": "stdout",
          "text": [
            "99% Confidence Interval : (0    1.090197\n",
            "dtype: float64, 0    1.387136\n",
            "dtype: float64)\n"
          ]
        }
      ]
    },
    {
      "cell_type": "markdown",
      "source": [
        "# Task b: Build 99% Confidence Interval Using Known Population Standard Deviation"
      ],
      "metadata": {
        "id": "07ilCwtWlNit"
      }
    },
    {
      "cell_type": "code",
      "source": [
        "population_std = 0.2"
      ],
      "metadata": {
        "id": "w8waBKO_lhKI"
      },
      "execution_count": null,
      "outputs": []
    },
    {
      "cell_type": "code",
      "source": [
        "#for calculating Confidence Interval for know population std we can use z-value\n",
        "z_value = stats.norm.ppf((1 + 0.99) / 2)\n",
        "z_value"
      ],
      "metadata": {
        "colab": {
          "base_uri": "https://localhost:8080/"
        },
        "id": "MQ6h4b4scXRF",
        "outputId": "9eb83c1c-216c-40fa-fe32-60c2e274acfe"
      },
      "execution_count": null,
      "outputs": [
        {
          "output_type": "execute_result",
          "data": {
            "text/plain": [
              "2.5758293035489004"
            ]
          },
          "metadata": {},
          "execution_count": 11
        }
      ]
    },
    {
      "cell_type": "code",
      "source": [
        "margin_of_error_z = z_value * (population_std / np.sqrt(n))\n",
        "confidence_interval_z = (df_mean - margin_of_error_z, df_mean + margin_of_error_z)\n",
        "print(\"99% Confidence Interval using known population standard deviation:\", confidence_interval_z)\n"
      ],
      "metadata": {
        "colab": {
          "base_uri": "https://localhost:8080/"
        },
        "id": "meazAlblmHnQ",
        "outputId": "d202541d-4efe-4c03-f0b5-55a57ad046ee"
      },
      "execution_count": null,
      "outputs": [
        {
          "output_type": "stream",
          "name": "stdout",
          "text": [
            "99% Confidence Interval using known population standard deviation: (0    1.105651\n",
            "dtype: float64, 0    1.371682\n",
            "dtype: float64)\n"
          ]
        }
      ]
    },
    {
      "cell_type": "code",
      "source": [],
      "metadata": {
        "id": "sxVXo8JImr2_"
      },
      "execution_count": null,
      "outputs": []
    }
  ]
}